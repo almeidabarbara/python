{
 "cells": [
  {
   "cell_type": "code",
   "execution_count": 1,
   "metadata": {},
   "outputs": [],
   "source": [
    "import re"
   ]
  },
  {
   "cell_type": "code",
   "execution_count": 2,
   "metadata": {},
   "outputs": [],
   "source": [
    "l_p = ['yourself', 'all']"
   ]
  },
  {
   "cell_type": "code",
   "execution_count": 3,
   "metadata": {},
   "outputs": [],
   "source": [
    "message = 'Do not compromise yourself. '\\\n",
    "'Your are all that you have. '"
   ]
  },
  {
   "cell_type": "code",
   "execution_count": 4,
   "metadata": {},
   "outputs": [
    {
     "name": "stdout",
     "output_type": "stream",
     "text": [
      "Searching for \"yourself\" in: \n",
      "\n",
      "\"Do not compromise yourself. Your are all that you have. \"\n",
      "\n",
      "\n",
      "Found \n",
      "\n",
      "\n",
      "\n",
      "Searching for \"all\" in: \n",
      "\n",
      "\"Do not compromise yourself. Your are all that you have. \"\n",
      "\n",
      "\n",
      "Found \n",
      "\n",
      "\n",
      "\n"
     ]
    }
   ],
   "source": [
    "# Data Mining Exemple\n",
    "for item in l_p:\n",
    "    print ('Searching for \"%s\" in: \\n\\n\"%s\"' % (item, message))\n",
    "    \n",
    "    # See if a word is in message\n",
    "    if re.search(item,  message):\n",
    "        print ('\\n')\n",
    "        print ('Found \\n')\n",
    "        print ('\\n')\n",
    "    else:\n",
    "        print ('\\n')\n",
    "        print ('Not found.')\n",
    "        print ('\\n')"
   ]
  },
  {
   "cell_type": "code",
   "execution_count": 5,
   "metadata": {},
   "outputs": [],
   "source": [
    "# Split string\n",
    "split_term = '@'"
   ]
  },
  {
   "cell_type": "code",
   "execution_count": 6,
   "metadata": {},
   "outputs": [],
   "source": [
    "mail = 'student@gmail.com'"
   ]
  },
  {
   "cell_type": "code",
   "execution_count": 7,
   "metadata": {},
   "outputs": [
    {
     "data": {
      "text/plain": [
       "['student', 'gmail.com']"
      ]
     },
     "execution_count": 7,
     "metadata": {},
     "output_type": "execute_result"
    }
   ],
   "source": [
    "re.split(split_term, mail)"
   ]
  },
  {
   "cell_type": "code",
   "execution_count": 8,
   "metadata": {},
   "outputs": [],
   "source": [
    "def find_patern(lista, mail):\n",
    "    \n",
    "    for item in lista:\n",
    "        print ('Searching in mail: %r' %item)\n",
    "        print (re.findall(item, mail))\n",
    "        print ('\\n')"
   ]
  },
  {
   "cell_type": "code",
   "execution_count": 9,
   "metadata": {},
   "outputs": [],
   "source": [
    "message3 = 'Hello my dear. Save my numer. It is 07850000.'"
   ]
  },
  {
   "cell_type": "code",
   "execution_count": 10,
   "metadata": {},
   "outputs": [
    {
     "data": {
      "text/plain": [
       "['Hello', 'my', 'dear', 'Save', 'my', 'numer', 'It', 'is', '07850000']"
      ]
     },
     "execution_count": 10,
     "metadata": {},
     "output_type": "execute_result"
    }
   ],
   "source": [
    "# It brings just words\n",
    "re.findall('[^!.? ]+', message3)"
   ]
  },
  {
   "cell_type": "code",
   "execution_count": null,
   "metadata": {},
   "outputs": [],
   "source": []
  }
 ],
 "metadata": {
  "kernelspec": {
   "display_name": "Python 3",
   "language": "python",
   "name": "python3"
  },
  "language_info": {
   "codemirror_mode": {
    "name": "ipython",
    "version": 3
   },
   "file_extension": ".py",
   "mimetype": "text/x-python",
   "name": "python",
   "nbconvert_exporter": "python",
   "pygments_lexer": "ipython3",
   "version": "3.7.6"
  }
 },
 "nbformat": 4,
 "nbformat_minor": 1
}
